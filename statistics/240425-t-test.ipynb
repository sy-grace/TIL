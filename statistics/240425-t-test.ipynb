{
 "cells": [
  {
   "cell_type": "markdown",
   "metadata": {},
   "source": [
    "### 독립표본 t test와 대응표본 t test\n",
    "* 독립표본 t test\n",
    "  - 서로 독립인 두 집단 비교\n",
    "  - 예시: 수도권과 지방의 집 값\n",
    "* 대응표본 t test\n",
    "  - 동일 그룹에서 어떤 처리 후 전후 비교\n",
    "  - 예시: 대출 규제 시작 전과 후의 집 값"
   ]
  },
  {
   "cell_type": "markdown",
   "metadata": {},
   "source": [
    "### 순서\n",
    "* if 표본의 크기가 10~30이면,\n",
    "  - 정규성 검정\n",
    "    * 정규성이라면, 등분산 검정\n",
    "    * 정규성이 아니라면, 순위합 검정\n",
    "* if 표본의 크기가 30 이상이면,\n",
    "  - 등분산 검정\n",
    "    * 등분산이라면, 등분산 가정 독립표본 t test\n",
    "    * 아니라면, 이분산 가정 독립표본 t test"
   ]
  },
  {
   "cell_type": "markdown",
   "metadata": {},
   "source": [
    "귀무가설: 수도권과 지방의 집값에 차이가 없다.\n",
    "\n",
    "독립가설: 수도권과 지방의 집값에 차이가 있다."
   ]
  },
  {
   "cell_type": "code",
   "execution_count": 1,
   "metadata": {},
   "outputs": [],
   "source": [
    "import numpy as np\n",
    "import pandas as pd\n",
    "import matplotlib.pyplot as plt\n",
    "import seaborn as sns\n",
    "import scipy.stats as stats"
   ]
  },
  {
   "cell_type": "code",
   "execution_count": 2,
   "metadata": {},
   "outputs": [],
   "source": [
    "house_a = np.random.normal(6, 5, 40) # 평균, 분산, 데이터 개수\n",
    "house_b = np.random.normal(3, 5, 40)"
   ]
  },
  {
   "cell_type": "code",
   "execution_count": 3,
   "metadata": {},
   "outputs": [
    {
     "data": {
      "text/plain": [
       "array([ 9.36625808,  0.06114303, 10.96218074,  3.38292391,  1.12582483,\n",
       "        2.71785028, -1.21328324, 11.51234198, -2.87934112, -1.76980272,\n",
       "       10.9718621 ,  9.21828428, 10.8417977 , 10.47079883,  3.25810049,\n",
       "        4.32931344,  3.31018038,  5.52532564,  9.62985914, 10.85293313,\n",
       "        4.88053245, 11.01936337,  5.63558874, -3.22776637, -1.95916048,\n",
       "       -0.58926074,  9.33196763, 10.56449017,  2.70521413,  0.6251861 ,\n",
       "        2.6991477 ,  4.33133406,  6.10122595,  6.33598908,  7.09447722,\n",
       "       -0.41375998,  4.64522154, -4.22413048, -1.9873154 ,  6.93839529])"
      ]
     },
     "execution_count": 3,
     "metadata": {},
     "output_type": "execute_result"
    }
   ],
   "source": [
    "# 수도권\n",
    "house_a"
   ]
  },
  {
   "cell_type": "code",
   "execution_count": 4,
   "metadata": {},
   "outputs": [
    {
     "data": {
      "text/plain": [
       "array([ 3.1646861 , -0.20683446,  7.28059359,  5.87950281,  2.18940936,\n",
       "        4.49680956,  9.57726274,  3.81889301,  0.27138263, 11.31354362,\n",
       "        4.90664084,  1.23693407,  0.37198221, -1.85419665, 16.05343588,\n",
       "       -5.34386056,  3.57513459, 15.02595381,  8.78730296, -0.22952193,\n",
       "        1.6131161 ,  8.89116091, -5.08049268, 10.81533574, -7.1183235 ,\n",
       "       -1.93405808, -5.49377492, -6.69161383, 13.95791191,  1.82292098,\n",
       "       10.0224037 ,  8.99296545,  2.28898418,  1.06595248,  4.9460382 ,\n",
       "        0.78672433, -1.63202246,  1.81836633,  3.26408337, -3.86402971])"
      ]
     },
     "execution_count": 4,
     "metadata": {},
     "output_type": "execute_result"
    }
   ],
   "source": [
    "# 지방\n",
    "house_b"
   ]
  },
  {
   "cell_type": "code",
   "execution_count": 5,
   "metadata": {},
   "outputs": [],
   "source": [
    "tmp1 = pd.concat([pd.DataFrame(['A']*40), pd.DataFrame(house_a.tolist())], axis=1)\n",
    "tmp2 = pd.concat([pd.DataFrame(['B']*40), pd.DataFrame(house_b.tolist())], axis=1)\n",
    "\n",
    "df = pd.concat([tmp1, tmp2], axis=0)"
   ]
  },
  {
   "cell_type": "code",
   "execution_count": 6,
   "metadata": {},
   "outputs": [
    {
     "data": {
      "text/html": [
       "<div>\n",
       "<style scoped>\n",
       "    .dataframe tbody tr th:only-of-type {\n",
       "        vertical-align: middle;\n",
       "    }\n",
       "\n",
       "    .dataframe tbody tr th {\n",
       "        vertical-align: top;\n",
       "    }\n",
       "\n",
       "    .dataframe thead th {\n",
       "        text-align: right;\n",
       "    }\n",
       "</style>\n",
       "<table border=\"1\" class=\"dataframe\">\n",
       "  <thead>\n",
       "    <tr style=\"text-align: right;\">\n",
       "      <th></th>\n",
       "      <th>0</th>\n",
       "      <th>0</th>\n",
       "    </tr>\n",
       "  </thead>\n",
       "  <tbody>\n",
       "    <tr>\n",
       "      <th>0</th>\n",
       "      <td>A</td>\n",
       "      <td>9.366258</td>\n",
       "    </tr>\n",
       "    <tr>\n",
       "      <th>1</th>\n",
       "      <td>A</td>\n",
       "      <td>0.061143</td>\n",
       "    </tr>\n",
       "    <tr>\n",
       "      <th>2</th>\n",
       "      <td>A</td>\n",
       "      <td>10.962181</td>\n",
       "    </tr>\n",
       "  </tbody>\n",
       "</table>\n",
       "</div>"
      ],
      "text/plain": [
       "   0          0\n",
       "0  A   9.366258\n",
       "1  A   0.061143\n",
       "2  A  10.962181"
      ]
     },
     "execution_count": 6,
     "metadata": {},
     "output_type": "execute_result"
    }
   ],
   "source": [
    "df.head(3)"
   ]
  },
  {
   "cell_type": "code",
   "execution_count": 7,
   "metadata": {},
   "outputs": [
    {
     "data": {
      "text/html": [
       "<div>\n",
       "<style scoped>\n",
       "    .dataframe tbody tr th:only-of-type {\n",
       "        vertical-align: middle;\n",
       "    }\n",
       "\n",
       "    .dataframe tbody tr th {\n",
       "        vertical-align: top;\n",
       "    }\n",
       "\n",
       "    .dataframe thead th {\n",
       "        text-align: right;\n",
       "    }\n",
       "</style>\n",
       "<table border=\"1\" class=\"dataframe\">\n",
       "  <thead>\n",
       "    <tr style=\"text-align: right;\">\n",
       "      <th></th>\n",
       "      <th>0</th>\n",
       "      <th>0</th>\n",
       "    </tr>\n",
       "  </thead>\n",
       "  <tbody>\n",
       "    <tr>\n",
       "      <th>37</th>\n",
       "      <td>B</td>\n",
       "      <td>1.818366</td>\n",
       "    </tr>\n",
       "    <tr>\n",
       "      <th>38</th>\n",
       "      <td>B</td>\n",
       "      <td>3.264083</td>\n",
       "    </tr>\n",
       "    <tr>\n",
       "      <th>39</th>\n",
       "      <td>B</td>\n",
       "      <td>-3.864030</td>\n",
       "    </tr>\n",
       "  </tbody>\n",
       "</table>\n",
       "</div>"
      ],
      "text/plain": [
       "    0         0\n",
       "37  B  1.818366\n",
       "38  B  3.264083\n",
       "39  B -3.864030"
      ]
     },
     "execution_count": 7,
     "metadata": {},
     "output_type": "execute_result"
    }
   ],
   "source": [
    "df.tail(3)"
   ]
  },
  {
   "cell_type": "code",
   "execution_count": 8,
   "metadata": {},
   "outputs": [
    {
     "data": {
      "text/html": [
       "<div>\n",
       "<style scoped>\n",
       "    .dataframe tbody tr th:only-of-type {\n",
       "        vertical-align: middle;\n",
       "    }\n",
       "\n",
       "    .dataframe tbody tr th {\n",
       "        vertical-align: top;\n",
       "    }\n",
       "\n",
       "    .dataframe thead th {\n",
       "        text-align: right;\n",
       "    }\n",
       "</style>\n",
       "<table border=\"1\" class=\"dataframe\">\n",
       "  <thead>\n",
       "    <tr style=\"text-align: right;\">\n",
       "      <th></th>\n",
       "      <th>grp</th>\n",
       "      <th>value</th>\n",
       "    </tr>\n",
       "  </thead>\n",
       "  <tbody>\n",
       "    <tr>\n",
       "      <th>0</th>\n",
       "      <td>A</td>\n",
       "      <td>9.366258</td>\n",
       "    </tr>\n",
       "    <tr>\n",
       "      <th>1</th>\n",
       "      <td>A</td>\n",
       "      <td>0.061143</td>\n",
       "    </tr>\n",
       "    <tr>\n",
       "      <th>2</th>\n",
       "      <td>A</td>\n",
       "      <td>10.962181</td>\n",
       "    </tr>\n",
       "    <tr>\n",
       "      <th>3</th>\n",
       "      <td>A</td>\n",
       "      <td>3.382924</td>\n",
       "    </tr>\n",
       "    <tr>\n",
       "      <th>4</th>\n",
       "      <td>A</td>\n",
       "      <td>1.125825</td>\n",
       "    </tr>\n",
       "  </tbody>\n",
       "</table>\n",
       "</div>"
      ],
      "text/plain": [
       "  grp      value\n",
       "0   A   9.366258\n",
       "1   A   0.061143\n",
       "2   A  10.962181\n",
       "3   A   3.382924\n",
       "4   A   1.125825"
      ]
     },
     "execution_count": 8,
     "metadata": {},
     "output_type": "execute_result"
    }
   ],
   "source": [
    "df.columns = ['grp', 'value']\n",
    "df.head()"
   ]
  },
  {
   "cell_type": "code",
   "execution_count": 9,
   "metadata": {},
   "outputs": [
    {
     "data": {
      "image/png": "[encoded data removed]",
      "text/plain": [
       "<Figure size 640x480 with 1 Axes>"
      ]
     },
     "metadata": {},
     "output_type": "display_data"
    }
   ],
   "source": [
    "sns.boxplot(x='grp', y='value', data=df)\n",
    "plt.show()"
   ]
  },
  {
   "cell_type": "markdown",
   "metadata": {},
   "source": [
    "### 등분산 검정\n",
    "* 귀무가설\n",
    "  - 수도권(grp A), 지방(grp B) 집값의 분산이 같다.\n",
    "  - p_value > 기각역(0.05): 귀무가설 채택\n",
    "* 대립가설\n",
    "  - 수도권(grp A), 지방(grp B) 집값의 분산이 다르다.\n",
    "  - p_value > 기각역(0.05): 대립가설 기각"
   ]
  },
  {
   "cell_type": "code",
   "execution_count": 10,
   "metadata": {},
   "outputs": [
    {
     "data": {
      "text/plain": [
       "LeveneResult(statistic=0.6871620491882445, pvalue=0.4096609075411902)"
      ]
     },
     "execution_count": 10,
     "metadata": {},
     "output_type": "execute_result"
    }
   ],
   "source": [
    "stats.levene(np.array(df[df['grp'] == 'A']['value']), np.array(df[df['grp'] == 'B']['value']))"
   ]
  },
  {
   "cell_type": "markdown",
   "metadata": {},
   "source": [
    "### 등분산 가정 독립표본 t test"
   ]
  },
  {
   "cell_type": "code",
   "execution_count": 11,
   "metadata": {},
   "outputs": [
    {
     "data": {
      "text/plain": [
       "TtestResult(statistic=1.1063527323067393, pvalue=0.27197442724529586, df=78.0)"
      ]
     },
     "execution_count": 11,
     "metadata": {},
     "output_type": "execute_result"
    }
   ],
   "source": [
    "stats.ttest_ind(np.array(df[df['grp'] == 'A']['value']),\n",
    "                np.array(df[df['grp'] == 'B']['value']),\n",
    "                equal_var = True) # 등분산이라는 뜻, default라서 안 써도 됨"
   ]
  },
  {
   "cell_type": "markdown",
   "metadata": {},
   "source": [
    "p_value > 0.05이므로 귀무가설 채택, 대립가설 기각\n",
    "\n",
    "t_value가 0에 가까울 수록 유의미한 차이가 없다"
   ]
  }
 ],
 "metadata": {
  "kernelspec": {
   "display_name": ".venv",
   "language": "python",
   "name": "python3"
  },
  "language_info": {
   "codemirror_mode": {
    "name": "ipython",
    "version": 3
   },
   "file_extension": ".py",
   "mimetype": "text/x-python",
   "name": "python",
   "nbconvert_exporter": "python",
   "pygments_lexer": "ipython3",
   "version": "3.10.12"
  }
 },
 "nbformat": 4,
 "nbformat_minor": 2
}
